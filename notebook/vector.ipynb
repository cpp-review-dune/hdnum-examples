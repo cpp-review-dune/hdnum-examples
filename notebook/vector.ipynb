{
 "cells": [
  {
   "cell_type": "code",
   "execution_count": 8,
   "id": "0a388e3c-12c6-4311-bfdb-b7c92ad568db",
   "metadata": {},
   "outputs": [],
   "source": [
    "#include <complex>"
   ]
  },
  {
   "cell_type": "code",
   "execution_count": 1,
   "id": "54a76e38-6e41-4651-899f-de9bb5982e77",
   "metadata": {},
   "outputs": [],
   "source": [
    "#include <hdnum/src/vector.hh>"
   ]
  },
  {
   "cell_type": "code",
   "execution_count": 10,
   "id": "f526b6eb-1750-44e0-ac72-4835d3b014d9",
   "metadata": {},
   "outputs": [],
   "source": [
    "using namespace std::complex_literals;"
   ]
  },
  {
   "cell_type": "code",
   "execution_count": 9,
   "id": "781f2efc-cea0-40b0-8b77-3071cf830a8a",
   "metadata": {},
   "outputs": [],
   "source": [
    "const double PI = std::acos(-1);"
   ]
  },
  {
   "cell_type": "code",
   "execution_count": 2,
   "id": "403cf588-2df1-48dd-9ecd-c7b74c1849fb",
   "metadata": {},
   "outputs": [],
   "source": [
    "hdnum::Vector<double> x(4);"
   ]
  },
  {
   "cell_type": "code",
   "execution_count": 3,
   "id": "be48c4bf-681f-4e56-a74a-1db9680f7353",
   "metadata": {},
   "outputs": [],
   "source": [
    "hdnum::unitvector(x, 2);"
   ]
  },
  {
   "cell_type": "code",
   "execution_count": 4,
   "id": "522255ae-c9a9-42bf-ae53-fa765a863373",
   "metadata": {},
   "outputs": [
    {
     "name": "stdout",
     "output_type": "stream",
     "text": [
      "x = \n",
      "[ 0]  0.0000000e+00\n",
      "[ 1]  0.0000000e+00\n",
      "[ 2]  1.0000000e+00\n",
      "[ 3]  0.0000000e+00\n",
      "\n",
      "||x|| = 1.0000000e+00\n"
     ]
    }
   ],
   "source": [
    "std::cout << \"x = \" << x << std::endl\n",
    "          << \"||x|| = \" << x.two_norm() << std::endl;"
   ]
  },
  {
   "cell_type": "code",
   "execution_count": 5,
   "id": "615cc283-fdfb-4602-b29f-98457090af2f",
   "metadata": {},
   "outputs": [],
   "source": [
    "x.resize(x.size() / 2);"
   ]
  },
  {
   "cell_type": "code",
   "execution_count": 6,
   "id": "b3318ca0-34f0-4325-ab9c-16948860c689",
   "metadata": {},
   "outputs": [
    {
     "name": "stdout",
     "output_type": "stream",
     "text": [
      "\n",
      "[ 0]  0.0000000e+00\n",
      "[ 1]  0.0000000e+00\n",
      "\n"
     ]
    }
   ],
   "source": [
    "std::cout << x << std::endl;"
   ]
  },
  {
   "cell_type": "code",
   "execution_count": 7,
   "id": "e5b06dee-a1e2-4d63-8014-c77ef32f7f74",
   "metadata": {},
   "outputs": [
    {
     "name": "stdout",
     "output_type": "stream",
     "text": [
      "\n",
      "[ 0]  0.0000000e+00\n",
      "\n"
     ]
    }
   ],
   "source": [
    "std::cout << x.sub(0, 1) << std::endl;"
   ]
  },
  {
   "cell_type": "code",
   "execution_count": 11,
   "id": "09eef43e-d78a-4309-bc27-eecb18b8016c",
   "metadata": {},
   "outputs": [],
   "source": [
    "hdnum::Vector<std::complex<double>> y(6, PI + 1i * PI);"
   ]
  },
  {
   "cell_type": "code",
   "execution_count": 12,
   "id": "aa7b172a-c88b-4e8d-98fb-81f654b553b9",
   "metadata": {},
   "outputs": [],
   "source": [
    "hdnum::Vector<std::complex<double>> z(y);"
   ]
  },
  {
   "cell_type": "code",
   "execution_count": 13,
   "id": "2a050bbe-3873-46f7-aa15-50382ca5a503",
   "metadata": {},
   "outputs": [],
   "source": [
    "z = 10 * PI + 50i * PI;"
   ]
  },
  {
   "cell_type": "code",
   "execution_count": 14,
   "id": "45317aa1-b673-45f0-b86e-422b6039678b",
   "metadata": {},
   "outputs": [
    {
     "name": "stdout",
     "output_type": "stream",
     "text": [
      "y=\n",
      "[ 0](3.1415927e+00,3.1415927e+00)\n",
      "[ 1](3.1415927e+00,3.1415927e+00)\n",
      "[ 2](3.1415927e+00,3.1415927e+00)\n",
      "[ 3](3.1415927e+00,3.1415927e+00)\n",
      "[ 4](3.1415927e+00,3.1415927e+00)\n",
      "[ 5](3.1415927e+00,3.1415927e+00)\n",
      "\n",
      "z=\n",
      "[ 0](3.1415927e+01,1.5707963e+02)\n",
      "[ 1](3.1415927e+01,1.5707963e+02)\n",
      "[ 2](3.1415927e+01,1.5707963e+02)\n",
      "[ 3](3.1415927e+01,1.5707963e+02)\n",
      "[ 4](3.1415927e+01,1.5707963e+02)\n",
      "[ 5](3.1415927e+01,1.5707963e+02)\n",
      "\n"
     ]
    }
   ],
   "source": [
    "std::cout << \"y=\" << y << std::endl << \"z=\" << z << std::endl;"
   ]
  },
  {
   "cell_type": "code",
   "execution_count": 15,
   "id": "91b5ecce-95f3-43d5-8a03-0662f7b197c1",
   "metadata": {},
   "outputs": [
    {
     "name": "stdout",
     "output_type": "stream",
     "text": [
      "z precision is 7.\n"
     ]
    }
   ],
   "source": [
    "std::cout << \"z precision is \" << z.precision() << \".\" << std::endl;"
   ]
  },
  {
   "cell_type": "code",
   "execution_count": 16,
   "id": "bdc95daf-cb8d-44ed-84d2-2a2640ed6a04",
   "metadata": {},
   "outputs": [],
   "source": [
    "z.precision(20);"
   ]
  },
  {
   "cell_type": "code",
   "execution_count": 17,
   "id": "ed135e8d-0cd6-4b56-8d8c-7e16210d2489",
   "metadata": {},
   "outputs": [
    {
     "name": "stdout",
     "output_type": "stream",
     "text": [
      "\n",
      "[ 0](3.14159265358979311600e+01,1.57079632679489662905e+02)\n",
      "[ 1](3.14159265358979311600e+01,1.57079632679489662905e+02)\n",
      "[ 2](3.14159265358979311600e+01,1.57079632679489662905e+02)\n",
      "[ 3](3.14159265358979311600e+01,1.57079632679489662905e+02)\n",
      "[ 4](3.14159265358979311600e+01,1.57079632679489662905e+02)\n",
      "[ 5](3.14159265358979311600e+01,1.57079632679489662905e+02)\n",
      "\n"
     ]
    }
   ],
   "source": [
    "std::cout << z << std::endl;"
   ]
  },
  {
   "cell_type": "code",
   "execution_count": null,
   "id": "1f830683-00fe-4baa-9c25-003c22ef8f59",
   "metadata": {},
   "outputs": [],
   "source": []
  }
 ],
 "metadata": {
  "kernelspec": {
   "display_name": "C++17 (xeus)",
   "language": "C++17",
   "name": "xcpp17"
  },
  "language_info": {
   "codemirror_mode": "text/x-c++src",
   "file_extension": ".cpp",
   "mimetype": "text/x-c++src",
   "name": "c++",
   "version": "17"
  }
 },
 "nbformat": 4,
 "nbformat_minor": 5
}

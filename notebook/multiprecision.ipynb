{
 "cells": [
  {
   "cell_type": "code",
   "execution_count": 2,
   "id": "681d0783-ee87-4ea2-80e4-61520c427367",
   "metadata": {},
   "outputs": [],
   "source": [
    "#include <gmpxx.h>"
   ]
  },
  {
   "cell_type": "code",
   "execution_count": 3,
   "id": "b6760370-4225-4742-ae39-af226654647d",
   "metadata": {},
   "outputs": [],
   "source": [
    "#pragma cling load(\"libgmpxx.so\")"
   ]
  },
  {
   "cell_type": "code",
   "execution_count": 4,
   "id": "2fed05ab-b246-4a44-b33c-0aa7d6b5132b",
   "metadata": {},
   "outputs": [],
   "source": [
    "#include <hdnum/src/vector.hh>"
   ]
  },
  {
   "cell_type": "code",
   "execution_count": 5,
   "id": "5fd3c37e-4239-4ace-b57a-993b5b616d0f",
   "metadata": {},
   "outputs": [],
   "source": [
    "#include <iostream>"
   ]
  },
  {
   "cell_type": "code",
   "execution_count": 6,
   "id": "17e7269d-7395-444f-b244-66e79e84c7b1",
   "metadata": {},
   "outputs": [],
   "source": [
    "mpf_set_default_prec(1024);"
   ]
  },
  {
   "cell_type": "code",
   "execution_count": 7,
   "id": "43d0c7cd-e0b9-422f-940b-88c954a593aa",
   "metadata": {},
   "outputs": [],
   "source": [
    "hdnum::Vector<mpf_class> mx(2);"
   ]
  },
  {
   "cell_type": "code",
   "execution_count": 8,
   "id": "09a0427a-11cf-4b77-9147-13ab90598876",
   "metadata": {},
   "outputs": [
    {
     "name": "stdout",
     "output_type": "stream",
     "text": [
      "mx=\n",
      "[ 0]  0.0000000e+00\n",
      "[ 1]  0.0000000e+00\n",
      "\n"
     ]
    }
   ],
   "source": [
    "std::cout << \"mx=\" << mx << std::endl;"
   ]
  },
  {
   "cell_type": "code",
   "execution_count": 9,
   "id": "c0d37876-939c-40ac-9a24-4c3f7ab264e3",
   "metadata": {},
   "outputs": [
    {
     "name": "stdout",
     "output_type": "stream",
     "text": [
      "7\n"
     ]
    }
   ],
   "source": [
    "std::cout << mx.precision() << std::endl;"
   ]
  },
  {
   "cell_type": "code",
   "execution_count": null,
   "id": "5cdf3f35-dada-4e50-9cc5-0aa8890cc820",
   "metadata": {},
   "outputs": [],
   "source": []
  },
  {
   "cell_type": "code",
   "execution_count": null,
   "id": "eabfc9c0-2d3b-454d-8965-a62e53a397ba",
   "metadata": {},
   "outputs": [],
   "source": []
  }
 ],
 "metadata": {
  "kernelspec": {
   "display_name": "C++17 (xeus)",
   "language": "C++17",
   "name": "xcpp17"
  },
  "language_info": {
   "codemirror_mode": "text/x-c++src",
   "file_extension": ".cpp",
   "mimetype": "text/x-c++src",
   "name": "c++",
   "version": "17"
  }
 },
 "nbformat": 4,
 "nbformat_minor": 5
}

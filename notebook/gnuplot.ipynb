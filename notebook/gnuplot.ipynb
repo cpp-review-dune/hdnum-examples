{
 "cells": [
  {
   "cell_type": "code",
   "execution_count": 1,
   "id": "7fdd4312-d382-4276-a1a4-3d49661a1961",
   "metadata": {},
   "outputs": [],
   "source": [
    "#include <hdnum/src/vector.hh>"
   ]
  },
  {
   "cell_type": "code",
   "execution_count": 2,
   "id": "76a345a2-9e59-4d8a-99c3-e85c62acbf1c",
   "metadata": {},
   "outputs": [],
   "source": [
    "const double PI = std::acos(-1);"
   ]
  },
  {
   "cell_type": "code",
   "execution_count": 3,
   "id": "ad2fbf31-99d2-4c92-932a-1fa4126ee91d",
   "metadata": {},
   "outputs": [],
   "source": [
    "hdnum::Vector<double> x(1);"
   ]
  },
  {
   "cell_type": "code",
   "execution_count": 4,
   "id": "4f630745-c2f8-40d0-9bac-f4af807e0291",
   "metadata": {},
   "outputs": [],
   "source": [
    "x = PI;"
   ]
  },
  {
   "cell_type": "code",
   "execution_count": 5,
   "id": "8d6276ab-c31a-4bac-8c6c-67b01b76c154",
   "metadata": {},
   "outputs": [],
   "source": [
    "x.scientific(false);"
   ]
  },
  {
   "cell_type": "code",
   "execution_count": 6,
   "id": "faa77df8-5d9d-403d-bec9-308565322c10",
   "metadata": {},
   "outputs": [],
   "source": [
    "hdnum::gnuplot(\"test.dat\", x);"
   ]
  },
  {
   "cell_type": "code",
   "execution_count": 8,
   "id": "45c54a2d-b9b5-4e05-9ba2-b7634d7769d7",
   "metadata": {},
   "outputs": [
    {
     "name": "stdout",
     "output_type": "stream",
     "text": [
      "              0      3.1415927\n"
     ]
    }
   ],
   "source": [
    "!(cat test.dat)"
   ]
  },
  {
   "cell_type": "code",
   "execution_count": 9,
   "id": "e5072df4-d915-49f4-8f65-e80d57d5be0a",
   "metadata": {},
   "outputs": [],
   "source": [
    "hdnum::readVectorFromFile(\"test.dat\", x);"
   ]
  },
  {
   "cell_type": "code",
   "execution_count": 10,
   "id": "3f8674d9-ab94-438e-b861-36cd592a273f",
   "metadata": {},
   "outputs": [
    {
     "name": "stdout",
     "output_type": "stream",
     "text": [
      "x=\n",
      "[ 0]      3.1415927\n",
      "[ 1]      0.0000000\n",
      "[ 2]      3.1415927\n",
      "\n"
     ]
    }
   ],
   "source": [
    "std::cout << \"x=\" << x << std::endl;"
   ]
  },
  {
   "cell_type": "code",
   "execution_count": null,
   "id": "8bf8f93f-da72-4c9e-bbc4-5a324e2edb89",
   "metadata": {},
   "outputs": [],
   "source": []
  }
 ],
 "metadata": {
  "kernelspec": {
   "display_name": "C++17 (xeus)",
   "language": "C++17",
   "name": "xcpp17"
  },
  "language_info": {
   "codemirror_mode": "text/x-c++src",
   "file_extension": ".cpp",
   "mimetype": "text/x-c++src",
   "name": "c++",
   "version": "17"
  }
 },
 "nbformat": 4,
 "nbformat_minor": 5
}

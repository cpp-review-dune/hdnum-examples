{
 "cells": [
  {
   "cell_type": "code",
   "execution_count": 1,
   "id": "40a6ed65-2103-4dec-84a8-87e0fc232316",
   "metadata": {},
   "outputs": [],
   "source": [
    "#include <hdnum/src/timer.hh>"
   ]
  },
  {
   "cell_type": "code",
   "execution_count": 2,
   "id": "b7f8e5b5-8729-4fbd-a694-53eb745d6701",
   "metadata": {},
   "outputs": [],
   "source": [
    "#include <iostream>"
   ]
  },
  {
   "cell_type": "code",
   "execution_count": 11,
   "id": "540ab201-5034-4110-9e04-db36bf1005e8",
   "metadata": {},
   "outputs": [],
   "source": [
    "hdnum::Timer T;"
   ]
  },
  {
   "cell_type": "code",
   "execution_count": 12,
   "id": "8dc021c8-f12d-4127-b377-0b0374eb4a25",
   "metadata": {},
   "outputs": [],
   "source": [
    "for (unsigned int i = 0; i < 1000000000; i++) {\n",
    "    ;\n",
    "}"
   ]
  },
  {
   "cell_type": "code",
   "execution_count": 13,
   "id": "bfd38709-088f-4e52-8875-78a64ea6effe",
   "metadata": {},
   "outputs": [],
   "source": [
    "double time_elapse = T.elapsed();"
   ]
  },
  {
   "cell_type": "code",
   "execution_count": 14,
   "id": "7aa27e97-a305-4f38-a980-bdcbc8e63eb6",
   "metadata": {},
   "outputs": [
    {
     "name": "stdout",
     "output_type": "stream",
     "text": [
      "0.682455\n"
     ]
    }
   ],
   "source": [
    "std::cout << time_elapse << std::endl;"
   ]
  },
  {
   "cell_type": "code",
   "execution_count": null,
   "id": "8e89b3db-177f-4390-bd13-af439106c1ee",
   "metadata": {},
   "outputs": [],
   "source": []
  },
  {
   "cell_type": "code",
   "execution_count": null,
   "id": "c252b599-a1a2-4c48-82b1-7352994e6cee",
   "metadata": {},
   "outputs": [],
   "source": []
  }
 ],
 "metadata": {
  "kernelspec": {
   "display_name": "C++17 (xeus)",
   "language": "C++17",
   "name": "xcpp17"
  },
  "language_info": {
   "codemirror_mode": "text/x-c++src",
   "file_extension": ".cpp",
   "mimetype": "text/x-c++src",
   "name": "c++",
   "version": "17"
  }
 },
 "nbformat": 4,
 "nbformat_minor": 5
}

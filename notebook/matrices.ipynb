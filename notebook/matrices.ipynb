{
 "cells": [
  {
   "cell_type": "code",
   "execution_count": 29,
   "id": "b9d3453f-851a-4a97-b749-723edbd2bb25",
   "metadata": {},
   "outputs": [],
   "source": [
    "#include <hdnum/src/densematrix.hh>"
   ]
  },
  {
   "cell_type": "code",
   "execution_count": 30,
   "id": "158b95a8-5de1-4f81-b650-b2131343e8ac",
   "metadata": {},
   "outputs": [],
   "source": [
    "#include <hdnum/src/vector.hh>"
   ]
  },
  {
   "cell_type": "code",
   "execution_count": 31,
   "id": "1ff20de4-d4d8-4c76-a935-d714d6b2cc85",
   "metadata": {},
   "outputs": [],
   "source": [
    "hdnum::DenseMatrix<double> A(2, 2, 1.0);"
   ]
  },
  {
   "cell_type": "code",
   "execution_count": 32,
   "id": "8360f86e-b615-48dc-8839-4d04ff6dd378",
   "metadata": {},
   "outputs": [],
   "source": [
    "hdnum::DenseMatrix<double> B(2, 2, -1.0);"
   ]
  },
  {
   "cell_type": "code",
   "execution_count": 33,
   "id": "b37fa3b6-a3d3-450e-8749-4dc07cfcfb09",
   "metadata": {},
   "outputs": [],
   "source": [
    "hdnum::DenseMatrix<double> D(2, 2);"
   ]
  },
  {
   "cell_type": "code",
   "execution_count": 34,
   "id": "7591541d-db82-4378-b50f-05bef27cbd19",
   "metadata": {},
   "outputs": [],
   "source": [
    "hdnum::DenseMatrix<double> E(2, 2);"
   ]
  },
  {
   "cell_type": "code",
   "execution_count": 35,
   "id": "5c5459a0-08bf-4b10-92c1-789becc20f12",
   "metadata": {},
   "outputs": [],
   "source": [
    "A.scientific(false);"
   ]
  },
  {
   "cell_type": "code",
   "execution_count": 36,
   "id": "bfd0cfd5-b693-4c3b-ac5d-76f90a3b45fd",
   "metadata": {},
   "outputs": [],
   "source": [
    "B.scientific(false);"
   ]
  },
  {
   "cell_type": "code",
   "execution_count": 37,
   "id": "eb2fbfde-44d7-44ee-8b26-0ea11228e44c",
   "metadata": {},
   "outputs": [],
   "source": [
    "hdnum::DenseMatrix<double> C = A + B;"
   ]
  },
  {
   "cell_type": "code",
   "execution_count": 38,
   "id": "3bfe235b-83da-4c57-a918-2aa44340d2fe",
   "metadata": {},
   "outputs": [
    {
     "name": "stdout",
     "output_type": "stream",
     "text": [
      "\n",
      "                      0          1 \n",
      "          0       1.000      1.000 \n",
      "          1       1.000      1.000 \n",
      "\n"
     ]
    }
   ],
   "source": [
    "std::cout << A << std::endl;"
   ]
  },
  {
   "cell_type": "code",
   "execution_count": 39,
   "id": "fc5ad8d8-f42d-4896-9ae2-d02762839e11",
   "metadata": {},
   "outputs": [
    {
     "name": "stdout",
     "output_type": "stream",
     "text": [
      "\n",
      "                      0          1 \n",
      "          0      -1.000     -1.000 \n",
      "          1      -1.000     -1.000 \n",
      "\n"
     ]
    }
   ],
   "source": [
    "std::cout << B << std::endl;"
   ]
  },
  {
   "cell_type": "code",
   "execution_count": 40,
   "id": "4c3a3cb1-1cca-4d1d-9b82-a9240c1cf7d4",
   "metadata": {},
   "outputs": [
    {
     "name": "stdout",
     "output_type": "stream",
     "text": [
      "\n",
      "                      0          1 \n",
      "          0       0.000      0.000 \n",
      "          1       0.000      0.000 \n",
      "\n"
     ]
    }
   ],
   "source": [
    "std::cout << C << std::endl;"
   ]
  },
  {
   "cell_type": "code",
   "execution_count": 41,
   "id": "26f00c26-3022-4793-a3fd-8937550a8934",
   "metadata": {},
   "outputs": [
    {
     "name": "stdout",
     "output_type": "stream",
     "text": [
      "0.000\n"
     ]
    }
   ],
   "source": [
    "std::cout << C(0, 0) << std::endl;"
   ]
  },
  {
   "cell_type": "code",
   "execution_count": 42,
   "id": "dd3a9c32-0e75-4016-a96a-c78edb060069",
   "metadata": {},
   "outputs": [],
   "source": [
    "C(1, 1) = 5.0;"
   ]
  },
  {
   "cell_type": "code",
   "execution_count": 43,
   "id": "7ba470c8-08e4-4fc5-91ee-7d97a4730808",
   "metadata": {},
   "outputs": [
    {
     "name": "stdout",
     "output_type": "stream",
     "text": [
      "\n",
      "                      0          1 \n",
      "          0       0.000      0.000 \n",
      "          1       0.000      5.000 \n",
      "\n"
     ]
    }
   ],
   "source": [
    "std::cout << C << std::endl;"
   ]
  },
  {
   "cell_type": "code",
   "execution_count": 44,
   "id": "76c81153-61c4-4c72-a9c7-2df9e62d2ebf",
   "metadata": {},
   "outputs": [
    {
     "name": "stdout",
     "output_type": "stream",
     "text": [
      "3\n"
     ]
    }
   ],
   "source": [
    "std::cout << A.precision() << std::endl;"
   ]
  },
  {
   "cell_type": "code",
   "execution_count": 45,
   "id": "b9d7356f-6fe7-4192-a884-3202ba752490",
   "metadata": {},
   "outputs": [
    {
     "name": "stdout",
     "output_type": "stream",
     "text": [
      "2\n"
     ]
    }
   ],
   "source": [
    "std::cout << C.colsize() << std::endl;"
   ]
  },
  {
   "cell_type": "code",
   "execution_count": 46,
   "id": "381b689b-11c6-4928-bbaa-c196ee4c41b4",
   "metadata": {},
   "outputs": [],
   "source": [
    "D.mm(A, B);"
   ]
  },
  {
   "cell_type": "code",
   "execution_count": 47,
   "id": "8d6246f2-c590-4562-959b-f491786f6883",
   "metadata": {},
   "outputs": [
    {
     "name": "stdout",
     "output_type": "stream",
     "text": [
      "\n",
      "                      0          1 \n",
      "          0      -2.000     -2.000 \n",
      "          1      -2.000     -2.000 \n",
      "\n"
     ]
    }
   ],
   "source": [
    "std::cout << D << std::endl;"
   ]
  },
  {
   "cell_type": "code",
   "execution_count": 48,
   "id": "172b6062-1971-4cb9-87dd-81f8c1fc2df1",
   "metadata": {},
   "outputs": [],
   "source": [
    "hdnum::Vector<double> x(2, 3.0), y(2);"
   ]
  },
  {
   "cell_type": "code",
   "execution_count": 49,
   "id": "7f5f9f5f-2ae2-4f45-a5f1-3dc940cbfee3",
   "metadata": {},
   "outputs": [],
   "source": [
    "D.mv(y, x);"
   ]
  },
  {
   "cell_type": "code",
   "execution_count": 50,
   "id": "830dfd7d-73ce-4762-a5dd-785f58f14e77",
   "metadata": {},
   "outputs": [
    {
     "name": "stdout",
     "output_type": "stream",
     "text": [
      "\n",
      "[ 0] -1.2000000e+01\n",
      "[ 1] -1.2000000e+01\n",
      "\n"
     ]
    }
   ],
   "source": [
    "std::cout << y << std::endl;"
   ]
  },
  {
   "cell_type": "code",
   "execution_count": 51,
   "id": "3261e02d-178c-4c85-a082-47d778a438c2",
   "metadata": {},
   "outputs": [],
   "source": [
    "E = A * B;"
   ]
  },
  {
   "cell_type": "code",
   "execution_count": 52,
   "id": "a0e5a307-8dc6-4a80-858a-b29b869a1c39",
   "metadata": {},
   "outputs": [
    {
     "name": "stdout",
     "output_type": "stream",
     "text": [
      "\n",
      "                      0          1 \n",
      "          0     -20.000    -20.000 \n",
      "          1     -20.000    -20.000 \n",
      "\n"
     ]
    }
   ],
   "source": [
    "E *= 10; // E = E * 10\n",
    "std::cout << E << std::endl;"
   ]
  },
  {
   "cell_type": "code",
   "execution_count": 53,
   "id": "17d99fea-9fdc-4b22-bd93-5b8db1f9fccd",
   "metadata": {},
   "outputs": [],
   "source": [
    "A(0, 0) = 1.0;\n",
    "A(0, 1) = 2.0;\n",
    "A(1, 0) = 3.0;\n",
    "A(1, 1) = 4.0;"
   ]
  },
  {
   "cell_type": "code",
   "execution_count": 54,
   "id": "1f5ed8e7-4961-49df-b170-fc90f7259aac",
   "metadata": {},
   "outputs": [
    {
     "name": "stdout",
     "output_type": "stream",
     "text": [
      "\n",
      "                      0          1 \n",
      "          0       1.000      2.000 \n",
      "          1       3.000      4.000 \n",
      "\n"
     ]
    }
   ],
   "source": [
    "std::cout << A << std::endl;"
   ]
  },
  {
   "cell_type": "code",
   "execution_count": 55,
   "id": "5d6b974e-239a-4825-ad65-f37ebd3b5035",
   "metadata": {},
   "outputs": [
    {
     "name": "stdout",
     "output_type": "stream",
     "text": [
      "\n",
      "                      0          1 \n",
      "          0       1.000      3.000 \n",
      "          1       2.000      4.000 \n",
      "\n"
     ]
    }
   ],
   "source": [
    "std::cout << A.transpose() << std::endl;"
   ]
  },
  {
   "cell_type": "code",
   "execution_count": 56,
   "id": "6cf2e039-97c9-4c54-b4b4-58146cba1ac1",
   "metadata": {},
   "outputs": [],
   "source": [
    "hdnum::DenseMatrix<double> F(6, 6, 2.3);"
   ]
  },
  {
   "cell_type": "code",
   "execution_count": 57,
   "id": "ed60d5bc-664a-48eb-ba3f-4af3a6950769",
   "metadata": {},
   "outputs": [],
   "source": [
    "hdnum::identity(F);"
   ]
  },
  {
   "cell_type": "code",
   "execution_count": 58,
   "id": "9ebc176b-6bb5-411f-a359-f564f3523bc0",
   "metadata": {},
   "outputs": [
    {
     "name": "stdout",
     "output_type": "stream",
     "text": [
      "\n",
      "                      0          1          2          3          4          5 \n",
      "          0       1.000      0.000      0.000      0.000      0.000      0.000 \n",
      "          1       0.000      1.000      0.000      0.000      0.000      0.000 \n",
      "          2       0.000      0.000      1.000      0.000      0.000      0.000 \n",
      "          3       0.000      0.000      0.000      1.000      0.000      0.000 \n",
      "          4       0.000      0.000      0.000      0.000      1.000      0.000 \n",
      "          5       0.000      0.000      0.000      0.000      0.000      1.000 \n",
      "\n"
     ]
    }
   ],
   "source": [
    "std::cout << F << std::endl;"
   ]
  },
  {
   "cell_type": "code",
   "execution_count": 59,
   "id": "74a5d2eb-8356-41ee-8c07-d2550bbd0a19",
   "metadata": {},
   "outputs": [],
   "source": [
    "hdnum::DenseMatrix<double> G(6, 6, 2.3);"
   ]
  },
  {
   "cell_type": "code",
   "execution_count": 60,
   "id": "02ee948b-eee1-421f-ab27-32f209049709",
   "metadata": {},
   "outputs": [],
   "source": [
    "hdnum::spd(G);"
   ]
  },
  {
   "cell_type": "code",
   "execution_count": 61,
   "id": "8df909e6-e9cb-40f3-a9c2-a325bb672178",
   "metadata": {},
   "outputs": [
    {
     "name": "stdout",
     "output_type": "stream",
     "text": [
      "\n",
      "                      0          1          2          3          4          5 \n",
      "          0       4.000     -1.000     -0.250     -0.111     -0.062     -0.040 \n",
      "          1      -1.000      4.000     -1.000     -0.250     -0.111     -0.062 \n",
      "          2      -0.250     -1.000      4.000     -1.000     -0.250     -0.111 \n",
      "          3      -0.111     -0.250     -1.000      4.000     -1.000     -0.250 \n",
      "          4      -0.062     -0.111     -0.250     -1.000      4.000     -1.000 \n",
      "          5      -0.040     -0.062     -0.111     -0.250     -1.000      4.000 \n",
      "\n"
     ]
    }
   ],
   "source": [
    "std::cout << G << std::endl;"
   ]
  },
  {
   "cell_type": "code",
   "execution_count": null,
   "id": "48b8ddcc-b675-4e8e-98c7-db518a989f91",
   "metadata": {},
   "outputs": [],
   "source": []
  }
 ],
 "metadata": {
  "kernelspec": {
   "display_name": "C++17 (xeus)",
   "language": "C++17",
   "name": "xcpp17"
  },
  "language_info": {
   "codemirror_mode": "text/x-c++src",
   "file_extension": ".cpp",
   "mimetype": "text/x-c++src",
   "name": "c++",
   "version": "17"
  }
 },
 "nbformat": 4,
 "nbformat_minor": 5
}
